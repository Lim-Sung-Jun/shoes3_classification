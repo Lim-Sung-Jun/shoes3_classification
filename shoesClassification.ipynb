{
  "nbformat": 4,
  "nbformat_minor": 0,
  "metadata": {
    "colab": {
      "name": "shoesClassification.ipynb",
      "provenance": [],
      "collapsed_sections": [],
      "toc_visible": true,
      "authorship_tag": "ABX9TyPYGMA/cmjfwofaM9nkmnpY",
      "include_colab_link": true
    },
    "kernelspec": {
      "name": "python3",
      "display_name": "Python 3"
    },
    "widgets": {
      "application/vnd.jupyter.widget-state+json": {
        "2a6853a096164c9a98df2db59d2c9a44": {
          "model_module": "@jupyter-widgets/controls",
          "model_name": "VBoxModel",
          "state": {
            "_view_name": "VBoxView",
            "_dom_classes": [],
            "_model_name": "VBoxModel",
            "_view_module": "@jupyter-widgets/controls",
            "_model_module_version": "1.5.0",
            "_view_count": null,
            "_view_module_version": "1.5.0",
            "box_style": "",
            "layout": "IPY_MODEL_bbc1a98a8e1f47c7b9a00defb9032adb",
            "_model_module": "@jupyter-widgets/controls",
            "children": [
              "IPY_MODEL_be268ae5fda3444d801a664e83cc99de",
              "IPY_MODEL_b9dbd8c5e6fe48e5983bade9ba144d25",
              "IPY_MODEL_8fff1851444849d2bcdd03967c66d658",
              "IPY_MODEL_ae1750affab442bca94bb5c88278a1fd",
              "IPY_MODEL_cb3d944744b2417c9c7ae683dfbd88b3"
            ]
          }
        },
        "bbc1a98a8e1f47c7b9a00defb9032adb": {
          "model_module": "@jupyter-widgets/base",
          "model_name": "LayoutModel",
          "state": {
            "_view_name": "LayoutView",
            "grid_template_rows": null,
            "right": null,
            "justify_content": null,
            "_view_module": "@jupyter-widgets/base",
            "overflow": null,
            "_model_module_version": "1.2.0",
            "_view_count": null,
            "flex_flow": null,
            "width": null,
            "min_width": null,
            "border": null,
            "align_items": null,
            "bottom": null,
            "_model_module": "@jupyter-widgets/base",
            "top": null,
            "grid_column": null,
            "overflow_y": null,
            "overflow_x": null,
            "grid_auto_flow": null,
            "grid_area": null,
            "grid_template_columns": null,
            "flex": null,
            "_model_name": "LayoutModel",
            "justify_items": null,
            "grid_row": null,
            "max_height": null,
            "align_content": null,
            "visibility": null,
            "align_self": null,
            "height": null,
            "min_height": null,
            "padding": null,
            "grid_auto_rows": null,
            "grid_gap": null,
            "max_width": null,
            "order": null,
            "_view_module_version": "1.2.0",
            "grid_template_areas": null,
            "object_position": null,
            "object_fit": null,
            "grid_auto_columns": null,
            "margin": null,
            "display": null,
            "left": null
          }
        },
        "be268ae5fda3444d801a664e83cc99de": {
          "model_module": "@jupyter-widgets/controls",
          "model_name": "LabelModel",
          "state": {
            "_view_name": "LabelView",
            "style": "IPY_MODEL_e7d205d061494ee09a3b8376b377a45c",
            "_dom_classes": [],
            "description": "",
            "_model_name": "LabelModel",
            "placeholder": "​",
            "_view_module": "@jupyter-widgets/controls",
            "_model_module_version": "1.5.0",
            "value": "Select your shoes!",
            "_view_count": null,
            "_view_module_version": "1.5.0",
            "description_tooltip": null,
            "_model_module": "@jupyter-widgets/controls",
            "layout": "IPY_MODEL_24472cbe0c7d4e62aabcbb7182e9d133"
          }
        },
        "b9dbd8c5e6fe48e5983bade9ba144d25": {
          "model_module": "@jupyter-widgets/controls",
          "model_name": "FileUploadModel",
          "state": {
            "_view_name": "FileUploadView",
            "_counter": 6,
            "style": "IPY_MODEL_a89175f010dc4e4aba6c8860d165fd59",
            "_dom_classes": [],
            "description": "Upload",
            "multiple": false,
            "_model_name": "FileUploadModel",
            "data": [
              null
            ],
            "button_style": "",
            "_view_module": "@jupyter-widgets/controls",
            "_model_module_version": "1.5.0",
            "accept": "",
            "_view_count": null,
            "disabled": false,
            "_view_module_version": "1.5.0",
            "error": "",
            "description_tooltip": null,
            "metadata": [
              {
                "name": "nike_1.jpeg",
                "type": "image/jpeg",
                "size": 2426343,
                "lastModified": 1611579054037
              }
            ],
            "_model_module": "@jupyter-widgets/controls",
            "layout": "IPY_MODEL_4f82ffdfca6941dfa8ad61f710c7613e",
            "icon": "upload"
          }
        },
        "8fff1851444849d2bcdd03967c66d658": {
          "model_module": "@jupyter-widgets/controls",
          "model_name": "ButtonModel",
          "state": {
            "_view_name": "ButtonView",
            "style": "IPY_MODEL_d67af895092f44f48db1f15f08734573",
            "_dom_classes": [],
            "description": "Classify",
            "_model_name": "ButtonModel",
            "button_style": "",
            "_view_module": "@jupyter-widgets/controls",
            "_model_module_version": "1.5.0",
            "tooltip": "",
            "_view_count": null,
            "disabled": false,
            "_view_module_version": "1.5.0",
            "layout": "IPY_MODEL_1ec8dcc62b6e4ff3a28ee7f23ccfd7ba",
            "_model_module": "@jupyter-widgets/controls",
            "icon": ""
          }
        },
        "ae1750affab442bca94bb5c88278a1fd": {
          "model_module": "@jupyter-widgets/output",
          "model_name": "OutputModel",
          "state": {
            "_view_name": "OutputView",
            "msg_id": "",
            "_dom_classes": [],
            "_model_name": "OutputModel",
            "outputs": [
              {
                "output_type": "display_data",
                "metadata": {
                  "tags": []
                },
                "image/png": "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\n",
                "text/plain": "<PIL.Image.Image image mode=RGB size=128x96 at 0x7F7409A74AC8>"
              }
            ],
            "_view_module": "@jupyter-widgets/output",
            "_model_module_version": "1.0.0",
            "_view_count": null,
            "_view_module_version": "1.0.0",
            "layout": "IPY_MODEL_672f3e86196045f782f0847b60da0472",
            "_model_module": "@jupyter-widgets/output"
          }
        },
        "cb3d944744b2417c9c7ae683dfbd88b3": {
          "model_module": "@jupyter-widgets/controls",
          "model_name": "LabelModel",
          "state": {
            "_view_name": "LabelView",
            "style": "IPY_MODEL_50923706a4954ee8827386dfc4b51a42",
            "_dom_classes": [],
            "description": "",
            "_model_name": "LabelModel",
            "placeholder": "​",
            "_view_module": "@jupyter-widgets/controls",
            "_model_module_version": "1.5.0",
            "value": "Prediction: nike; Probability: 0.8792",
            "_view_count": null,
            "_view_module_version": "1.5.0",
            "description_tooltip": null,
            "_model_module": "@jupyter-widgets/controls",
            "layout": "IPY_MODEL_3fa91e972cb549a2ba8c5c3361778415"
          }
        },
        "e7d205d061494ee09a3b8376b377a45c": {
          "model_module": "@jupyter-widgets/controls",
          "model_name": "DescriptionStyleModel",
          "state": {
            "_view_name": "StyleView",
            "_model_name": "DescriptionStyleModel",
            "description_width": "",
            "_view_module": "@jupyter-widgets/base",
            "_model_module_version": "1.5.0",
            "_view_count": null,
            "_view_module_version": "1.2.0",
            "_model_module": "@jupyter-widgets/controls"
          }
        },
        "24472cbe0c7d4e62aabcbb7182e9d133": {
          "model_module": "@jupyter-widgets/base",
          "model_name": "LayoutModel",
          "state": {
            "_view_name": "LayoutView",
            "grid_template_rows": null,
            "right": null,
            "justify_content": null,
            "_view_module": "@jupyter-widgets/base",
            "overflow": null,
            "_model_module_version": "1.2.0",
            "_view_count": null,
            "flex_flow": null,
            "width": null,
            "min_width": null,
            "border": null,
            "align_items": null,
            "bottom": null,
            "_model_module": "@jupyter-widgets/base",
            "top": null,
            "grid_column": null,
            "overflow_y": null,
            "overflow_x": null,
            "grid_auto_flow": null,
            "grid_area": null,
            "grid_template_columns": null,
            "flex": null,
            "_model_name": "LayoutModel",
            "justify_items": null,
            "grid_row": null,
            "max_height": null,
            "align_content": null,
            "visibility": null,
            "align_self": null,
            "height": null,
            "min_height": null,
            "padding": null,
            "grid_auto_rows": null,
            "grid_gap": null,
            "max_width": null,
            "order": null,
            "_view_module_version": "1.2.0",
            "grid_template_areas": null,
            "object_position": null,
            "object_fit": null,
            "grid_auto_columns": null,
            "margin": null,
            "display": null,
            "left": null
          }
        },
        "a89175f010dc4e4aba6c8860d165fd59": {
          "model_module": "@jupyter-widgets/controls",
          "model_name": "ButtonStyleModel",
          "state": {
            "_view_name": "StyleView",
            "_model_name": "ButtonStyleModel",
            "_view_module": "@jupyter-widgets/base",
            "_model_module_version": "1.5.0",
            "_view_count": null,
            "button_color": null,
            "font_weight": "",
            "_view_module_version": "1.2.0",
            "_model_module": "@jupyter-widgets/controls"
          }
        },
        "4f82ffdfca6941dfa8ad61f710c7613e": {
          "model_module": "@jupyter-widgets/base",
          "model_name": "LayoutModel",
          "state": {
            "_view_name": "LayoutView",
            "grid_template_rows": null,
            "right": null,
            "justify_content": null,
            "_view_module": "@jupyter-widgets/base",
            "overflow": null,
            "_model_module_version": "1.2.0",
            "_view_count": null,
            "flex_flow": null,
            "width": null,
            "min_width": null,
            "border": null,
            "align_items": null,
            "bottom": null,
            "_model_module": "@jupyter-widgets/base",
            "top": null,
            "grid_column": null,
            "overflow_y": null,
            "overflow_x": null,
            "grid_auto_flow": null,
            "grid_area": null,
            "grid_template_columns": null,
            "flex": null,
            "_model_name": "LayoutModel",
            "justify_items": null,
            "grid_row": null,
            "max_height": null,
            "align_content": null,
            "visibility": null,
            "align_self": null,
            "height": null,
            "min_height": null,
            "padding": null,
            "grid_auto_rows": null,
            "grid_gap": null,
            "max_width": null,
            "order": null,
            "_view_module_version": "1.2.0",
            "grid_template_areas": null,
            "object_position": null,
            "object_fit": null,
            "grid_auto_columns": null,
            "margin": null,
            "display": null,
            "left": null
          }
        },
        "d67af895092f44f48db1f15f08734573": {
          "model_module": "@jupyter-widgets/controls",
          "model_name": "ButtonStyleModel",
          "state": {
            "_view_name": "StyleView",
            "_model_name": "ButtonStyleModel",
            "_view_module": "@jupyter-widgets/base",
            "_model_module_version": "1.5.0",
            "_view_count": null,
            "button_color": null,
            "font_weight": "",
            "_view_module_version": "1.2.0",
            "_model_module": "@jupyter-widgets/controls"
          }
        },
        "1ec8dcc62b6e4ff3a28ee7f23ccfd7ba": {
          "model_module": "@jupyter-widgets/base",
          "model_name": "LayoutModel",
          "state": {
            "_view_name": "LayoutView",
            "grid_template_rows": null,
            "right": null,
            "justify_content": null,
            "_view_module": "@jupyter-widgets/base",
            "overflow": null,
            "_model_module_version": "1.2.0",
            "_view_count": null,
            "flex_flow": null,
            "width": null,
            "min_width": null,
            "border": null,
            "align_items": null,
            "bottom": null,
            "_model_module": "@jupyter-widgets/base",
            "top": null,
            "grid_column": null,
            "overflow_y": null,
            "overflow_x": null,
            "grid_auto_flow": null,
            "grid_area": null,
            "grid_template_columns": null,
            "flex": null,
            "_model_name": "LayoutModel",
            "justify_items": null,
            "grid_row": null,
            "max_height": null,
            "align_content": null,
            "visibility": null,
            "align_self": null,
            "height": null,
            "min_height": null,
            "padding": null,
            "grid_auto_rows": null,
            "grid_gap": null,
            "max_width": null,
            "order": null,
            "_view_module_version": "1.2.0",
            "grid_template_areas": null,
            "object_position": null,
            "object_fit": null,
            "grid_auto_columns": null,
            "margin": null,
            "display": null,
            "left": null
          }
        },
        "50923706a4954ee8827386dfc4b51a42": {
          "model_module": "@jupyter-widgets/controls",
          "model_name": "DescriptionStyleModel",
          "state": {
            "_view_name": "StyleView",
            "_model_name": "DescriptionStyleModel",
            "description_width": "",
            "_view_module": "@jupyter-widgets/base",
            "_model_module_version": "1.5.0",
            "_view_count": null,
            "_view_module_version": "1.2.0",
            "_model_module": "@jupyter-widgets/controls"
          }
        },
        "3fa91e972cb549a2ba8c5c3361778415": {
          "model_module": "@jupyter-widgets/base",
          "model_name": "LayoutModel",
          "state": {
            "_view_name": "LayoutView",
            "grid_template_rows": null,
            "right": null,
            "justify_content": null,
            "_view_module": "@jupyter-widgets/base",
            "overflow": null,
            "_model_module_version": "1.2.0",
            "_view_count": null,
            "flex_flow": null,
            "width": null,
            "min_width": null,
            "border": null,
            "align_items": null,
            "bottom": null,
            "_model_module": "@jupyter-widgets/base",
            "top": null,
            "grid_column": null,
            "overflow_y": null,
            "overflow_x": null,
            "grid_auto_flow": null,
            "grid_area": null,
            "grid_template_columns": null,
            "flex": null,
            "_model_name": "LayoutModel",
            "justify_items": null,
            "grid_row": null,
            "max_height": null,
            "align_content": null,
            "visibility": null,
            "align_self": null,
            "height": null,
            "min_height": null,
            "padding": null,
            "grid_auto_rows": null,
            "grid_gap": null,
            "max_width": null,
            "order": null,
            "_view_module_version": "1.2.0",
            "grid_template_areas": null,
            "object_position": null,
            "object_fit": null,
            "grid_auto_columns": null,
            "margin": null,
            "display": null,
            "left": null
          }
        },
        "672f3e86196045f782f0847b60da0472": {
          "model_module": "@jupyter-widgets/base",
          "model_name": "LayoutModel",
          "state": {
            "_view_name": "LayoutView",
            "grid_template_rows": null,
            "right": null,
            "justify_content": null,
            "_view_module": "@jupyter-widgets/base",
            "overflow": null,
            "_model_module_version": "1.2.0",
            "_view_count": null,
            "flex_flow": null,
            "width": null,
            "min_width": null,
            "border": null,
            "align_items": null,
            "bottom": null,
            "_model_module": "@jupyter-widgets/base",
            "top": null,
            "grid_column": null,
            "overflow_y": null,
            "overflow_x": null,
            "grid_auto_flow": null,
            "grid_area": null,
            "grid_template_columns": null,
            "flex": null,
            "_model_name": "LayoutModel",
            "justify_items": null,
            "grid_row": null,
            "max_height": null,
            "align_content": null,
            "visibility": null,
            "align_self": null,
            "height": null,
            "min_height": null,
            "padding": null,
            "grid_auto_rows": null,
            "grid_gap": null,
            "max_width": null,
            "order": null,
            "_view_module_version": "1.2.0",
            "grid_template_areas": null,
            "object_position": null,
            "object_fit": null,
            "grid_auto_columns": null,
            "margin": null,
            "display": null,
            "left": null
          }
        }
      }
    }
  },
  "cells": [
    {
      "cell_type": "markdown",
      "metadata": {
        "id": "view-in-github",
        "colab_type": "text"
      },
      "source": [
        "<a href=\"https://colab.research.google.com/github/Lim-Sung-Jun/shoes3_classification/blob/main/shoesClassification.ipynb\" target=\"_parent\"><img src=\"https://colab.research.google.com/assets/colab-badge.svg\" alt=\"Open In Colab\"/></a>"
      ]
    },
    {
      "cell_type": "code",
      "metadata": {
        "id": "z9QVPi6kQrlp"
      },
      "source": [
        "#hide\n",
        "from fastai.vision.all import *\n",
        "from fastai.vision.widgets import *\n"
      ],
      "execution_count": 6,
      "outputs": []
    },
    {
      "cell_type": "markdown",
      "metadata": {
        "id": "mXCf9GmoS2Ps"
      },
      "source": [
        "##**The Amazing Shoes Classifier!**\n",
        "\n",
        "\n",
        "---\n",
        "\n",
        "You can categorize three kinds of shoes!\n",
        "\n",
        "BE CAREFUL IT WILL TAKE SOME TIME"
      ]
    },
    {
      "cell_type": "code",
      "metadata": {
        "id": "MGS9g9-STBFY"
      },
      "source": [
        "path = Path()\n",
        "learn_inf = load_learner(path/'export.pkl', cpu=True)\n",
        "btn_upload = widgets.FileUpload()\n",
        "out_pl = widgets.Output()\n",
        "lbl_pred = widgets.Label()\n",
        "btn_run = widgets.Button(description='Classify')"
      ],
      "execution_count": 7,
      "outputs": []
    },
    {
      "cell_type": "code",
      "metadata": {
        "id": "dCOiMtoyaRer"
      },
      "source": [
        "\n",
        "def on_data_change(change):\n",
        "    lbl_pred.value = ''\n",
        "    img = PILImage.create(btn_upload.data[-1])\n",
        "    out_pl.clear_output()\n",
        "    with out_pl: display(img.to_thumb(128,128))\n",
        "    pred,pred_idx,probs = learn_inf.predict(img)\n",
        "    lbl_pred.value = f'Prediction: {pred}; Probability: {probs[pred_idx]:.04f}'\n",
        "\n",
        "btn_run.on_click(on_data_change)"
      ],
      "execution_count": 8,
      "outputs": []
    },
    {
      "cell_type": "code",
      "metadata": {
        "id": "f4-dMtIMaUJS"
      },
      "source": [
        "btn_upload = widgets.FileUpload()"
      ],
      "execution_count": 9,
      "outputs": []
    },
    {
      "cell_type": "code",
      "metadata": {
        "colab": {
          "base_uri": "https://localhost:8080/",
          "height": 241,
          "referenced_widgets": [
            "2a6853a096164c9a98df2db59d2c9a44",
            "bbc1a98a8e1f47c7b9a00defb9032adb",
            "be268ae5fda3444d801a664e83cc99de",
            "b9dbd8c5e6fe48e5983bade9ba144d25",
            "8fff1851444849d2bcdd03967c66d658",
            "ae1750affab442bca94bb5c88278a1fd",
            "cb3d944744b2417c9c7ae683dfbd88b3",
            "e7d205d061494ee09a3b8376b377a45c",
            "24472cbe0c7d4e62aabcbb7182e9d133",
            "a89175f010dc4e4aba6c8860d165fd59",
            "4f82ffdfca6941dfa8ad61f710c7613e",
            "d67af895092f44f48db1f15f08734573",
            "1ec8dcc62b6e4ff3a28ee7f23ccfd7ba",
            "50923706a4954ee8827386dfc4b51a42",
            "3fa91e972cb549a2ba8c5c3361778415",
            "672f3e86196045f782f0847b60da0472"
          ]
        },
        "id": "hXMyELF4wgiK",
        "outputId": "c4bf0d46-dcb8-4095-ec70-909bd1ab4606"
      },
      "source": [
        "display(VBox([widgets.Label('Select your shoes!'), btn_upload,btn_run, out_pl, lbl_pred]))"
      ],
      "execution_count": 10,
      "outputs": [
        {
          "output_type": "display_data",
          "data": {
            "application/vnd.jupyter.widget-view+json": {
              "model_id": "2a6853a096164c9a98df2db59d2c9a44",
              "version_minor": 0,
              "version_major": 2
            },
            "text/plain": [
              "VBox(children=(Label(value='Select your shoes!'), FileUpload(value={}, description='Upload'), Button(descripti…"
            ]
          },
          "metadata": {
            "tags": []
          }
        },
        {
          "output_type": "display_data",
          "data": {
            "text/html": [
              ""
            ],
            "text/plain": [
              "<IPython.core.display.HTML object>"
            ]
          },
          "metadata": {
            "tags": []
          }
        },
        {
          "output_type": "display_data",
          "data": {
            "text/html": [
              ""
            ],
            "text/plain": [
              "<IPython.core.display.HTML object>"
            ]
          },
          "metadata": {
            "tags": []
          }
        },
        {
          "output_type": "display_data",
          "data": {
            "text/html": [
              ""
            ],
            "text/plain": [
              "<IPython.core.display.HTML object>"
            ]
          },
          "metadata": {
            "tags": []
          }
        },
        {
          "output_type": "display_data",
          "data": {
            "text/html": [
              ""
            ],
            "text/plain": [
              "<IPython.core.display.HTML object>"
            ]
          },
          "metadata": {
            "tags": []
          }
        },
        {
          "output_type": "display_data",
          "data": {
            "text/html": [
              ""
            ],
            "text/plain": [
              "<IPython.core.display.HTML object>"
            ]
          },
          "metadata": {
            "tags": []
          }
        },
        {
          "output_type": "display_data",
          "data": {
            "text/html": [
              ""
            ],
            "text/plain": [
              "<IPython.core.display.HTML object>"
            ]
          },
          "metadata": {
            "tags": []
          }
        },
        {
          "output_type": "display_data",
          "data": {
            "text/html": [
              ""
            ],
            "text/plain": [
              "<IPython.core.display.HTML object>"
            ]
          },
          "metadata": {
            "tags": []
          }
        }
      ]
    },
    {
      "cell_type": "code",
      "metadata": {
        "id": "36IdYlDJ41tU"
      },
      "source": [
        ""
      ],
      "execution_count": null,
      "outputs": []
    }
  ]
}